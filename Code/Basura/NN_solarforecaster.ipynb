{
 "cells": [
  {
   "cell_type": "markdown",
   "source": [
    "**Neural network**\n",
    "Based on Solar_Forecasting.ipynb by\n",
    "From GHI series (or other variable) makes prediction of next steps based on a rolling function called split_sequence that takes subseries of length N to predict the following M steps. Using a ANN aproach with 100 epochs.\n",
    "\n",
    "We will use this implementation to forecast the following 24 months (from january 2021 to december 2022). The testing sample will be 2020 (for which the training data will be up to 2019).\n"
   ],
   "metadata": {}
  },
  {
   "cell_type": "code",
   "execution_count": 1,
   "source": [
    "import pandas as pd\n",
    "import numpy as np\n",
    "import matplotlib.pyplot as plt\n",
    "np.random.seed(42)\n",
    "from keras.layers import LSTM, Dense\n",
    "from keras.models import Sequential\n",
    "from keras.layers import RepeatVector\n",
    "from keras.layers import TimeDistributed\n",
    "from keras.callbacks import EarlyStopping\n",
    "from sklearn.metrics import mean_squared_error, mean_absolute_error, r2_score\n",
    "from sklearn.preprocessing import StandardScaler\n",
    "from time import time\n",
    "\n",
    "import matplotlib as mpl\n",
    "import matplotlib.pyplot as plt\n",
    "mpl.rc('axes', labelsize=14)\n",
    "mpl.rc('xtick', labelsize=12)\n",
    "mpl.rc('ytick', labelsize=12)\n",
    "print(\"Imports done\")"
   ],
   "outputs": [
    {
     "output_type": "stream",
     "name": "stdout",
     "text": [
      "Imports done\n"
     ]
    }
   ],
   "metadata": {}
  },
  {
   "cell_type": "code",
   "execution_count": 7,
   "source": [
    "#Data\n",
    "VarNo=2\n",
    "CoordNo=0\n",
    "data_path=\"/home/bleon/Documents/DS4A/DS4A_Project/Processed_Data/\"\n",
    "Data=pd.read_csv(data_path+\"MeteorCOLUnited.csv\",usecols=[\"Year\",\"Month\",\"Day\",\"Wind Speed\",\"GHI\",\"Temperature\",\"Latitude\",\"Longitude\"])\n",
    "MonthData=Data[Data[\"Year\"]<=2020].groupby([\"Year\",\"Month\",\"Latitude\",\"Longitude\"]).mean().reset_index()\n",
    "MonthData[\"LatLon\"]=list(zip(MonthData[\"Latitude\"],MonthData[\"Longitude\"]))\n",
    "\n",
    "AllCoords=MonthData[\"LatLon\"].unique().tolist()\n",
    "Location=AllCoords[CoordNo]\n",
    "Variables_to_plot=[\"Temperature\",\"Wind Speed\",\"GHI\"]\n",
    "Variable=Variables_to_plot[VarNo]\n",
    "\n",
    "print(\"Data done\")"
   ],
   "outputs": [
    {
     "output_type": "stream",
     "name": "stdout",
     "text": [
      "Data done\n"
     ]
    }
   ],
   "metadata": {}
  },
  {
   "cell_type": "code",
   "execution_count": 8,
   "source": [
    "ForecastDF=MonthData[MonthData[\"LatLon\"]==Location][[\"Year\",\"Month\",Variable]]\n",
    "ForecastDF[\"datetime\"]=pd.to_datetime(ForecastDF[\"Year\"].astype(\"str\")+\"-\"+ForecastDF[\"Month\"].astype(\"str\")+\"-01\")"
   ],
   "outputs": [],
   "metadata": {}
  },
  {
   "cell_type": "code",
   "execution_count": 10,
   "source": [
    "X = np.array(ForecastDF[Variable].tolist())\n",
    "scaler = StandardScaler().fit(X.reshape(-1, 1))\n",
    "X = scaler.transform(X.reshape(-1, 1))\n",
    "X = X.ravel()\n",
    "#\n",
    "# X_test last year\n",
    "# X_val Second to last year\n",
    "# X_train all remaining year\n",
    "n = len(X)\n",
    "m=n-12\n",
    "X_train = X[:m-12]\n",
    "X_val = X[m-12:m]\n",
    "X_test = X[m:]\n",
    "\n",
    "print(X.shape)\n",
    "print(X_train.shape)\n",
    "print(X_val.shape)\n",
    "print(X_test.shape)"
   ],
   "outputs": [
    {
     "output_type": "stream",
     "name": "stdout",
     "text": [
      "(264,)\n",
      "(240,)\n",
      "(12,)\n",
      "(12,)\n"
     ]
    }
   ],
   "metadata": {}
  },
  {
   "cell_type": "code",
   "execution_count": 11,
   "source": [
    "def split_sequence(sequence, n_steps_in, n_steps_out):\n",
    "    X, y = list(), list()\n",
    "    for i in range(len(sequence)):\n",
    "        end_ix = i + n_steps_in\n",
    "        out_end_ix = end_ix + n_steps_out\n",
    "        if out_end_ix > len(sequence):\n",
    "            break\n",
    "        seq_x, seq_y = sequence[i:end_ix], sequence[end_ix:out_end_ix]\n",
    "        X.append(seq_x)\n",
    "        y.append(seq_y)\n",
    "    return np.array(X), np.array(y)\n",
    "# seq=[1,2,3,4,5,6,7,8,9,10,11,12,13,14,15,16,17,18,19,20]\n",
    "# print(split_sequence(seq,3,3))"
   ],
   "outputs": [],
   "metadata": {}
  },
  {
   "cell_type": "code",
   "execution_count": 12,
   "source": [
    "# Choose number of input and output steps\n",
    "# Elegir número de pasos de entrada y salida\n",
    "n_steps_in_d = 6     # 7 días previos\n",
    "n_steps_out_d = 2      # predecir siguiente día\n",
    "\n",
    "# Dividir en muestras\n",
    "X_t, y_t = split_sequence(X_train, n_steps_in_d, n_steps_out_d)\n",
    "X_v, y_v = split_sequence(X_val, n_steps_in_d, n_steps_out_d)\n",
    "\n",
    "print(X_t.shape)\n",
    "print(y_t.shape)\n",
    "print(X_v.shape)\n",
    "print(y_v.shape)"
   ],
   "outputs": [
    {
     "output_type": "stream",
     "name": "stdout",
     "text": [
      "(233, 6)\n",
      "(233, 2)\n",
      "(5, 6)\n",
      "(5, 2)\n"
     ]
    }
   ],
   "metadata": {}
  },
  {
   "cell_type": "code",
   "execution_count": 13,
   "source": [
    "n_features = 1\n",
    "X_t = X_t.reshape((X_t.shape[0], X_t.shape[1], n_features))\n",
    "y_t = y_t.reshape((y_t.shape[0], y_t.shape[1], n_features))\n",
    "X_v = X_v.reshape((X_v.shape[0], X_v.shape[1], n_features))\n",
    "y_v = y_v.reshape((y_v.shape[0], y_v.shape[1], n_features))\n",
    "\n",
    "print(X_t.shape)\n",
    "print(y_t.shape)\n",
    "print(X_v.shape)\n",
    "print(y_v.shape)"
   ],
   "outputs": [
    {
     "output_type": "stream",
     "name": "stdout",
     "text": [
      "(233, 6, 1)\n",
      "(233, 2, 1)\n",
      "(5, 6, 1)\n",
      "(5, 2, 1)\n"
     ]
    }
   ],
   "metadata": {}
  },
  {
   "cell_type": "code",
   "execution_count": 17,
   "source": [
    "# definir el modelo\n",
    "\n",
    "# encoder\n",
    "model_d = Sequential()\n",
    "model_d.add(LSTM(12, input_shape=(n_steps_in_d, n_features)))\n",
    "model_d.add(RepeatVector(n_steps_out_d))\n",
    "\n",
    "# decoder\n",
    "model_d.add(LSTM(12, return_sequences=True))\n",
    "model_d.add(TimeDistributed(Dense(1)))\n",
    "model_d.compile(optimizer='adam', loss='mse')\n",
    "\n",
    "# entrenar the model\n",
    "start = time()\n",
    "early_stopping = EarlyStopping(patience=100, restore_best_weights=True)\n",
    "history = model_d.fit(X_t, y_t, epochs=100, batch_size=128, verbose=1,\n",
    "           validation_data=(X_v, y_v), callbacks=[early_stopping])\n",
    "print(\"El modelo tardó %.2f segundos en entrenar.\"% (time() - start)) "
   ],
   "outputs": [
    {
     "output_type": "stream",
     "name": "stdout",
     "text": [
      "Epoch 1/100\n",
      "2/2 [==============================] - 34s 7s/step - loss: 0.9507 - val_loss: 1.1922\n",
      "Epoch 2/100\n",
      "2/2 [==============================] - 0s 299ms/step - loss: 0.9383 - val_loss: 1.1979\n",
      "Epoch 3/100\n",
      "2/2 [==============================] - 0s 360ms/step - loss: 0.9228 - val_loss: 1.2026\n",
      "Epoch 4/100\n",
      "2/2 [==============================] - 1s 446ms/step - loss: 0.9404 - val_loss: 1.2063\n",
      "Epoch 5/100\n",
      "2/2 [==============================] - 0s 270ms/step - loss: 0.9309 - val_loss: 1.2108\n",
      "Epoch 6/100\n",
      "2/2 [==============================] - 0s 374ms/step - loss: 0.9335 - val_loss: 1.2148\n",
      "Epoch 7/100\n",
      "2/2 [==============================] - 1s 403ms/step - loss: 0.9192 - val_loss: 1.2182\n",
      "Epoch 8/100\n",
      "2/2 [==============================] - 0s 258ms/step - loss: 0.9164 - val_loss: 1.2222\n",
      "Epoch 9/100\n",
      "2/2 [==============================] - 1s 487ms/step - loss: 0.8709 - val_loss: 1.2260\n",
      "Epoch 10/100\n",
      "2/2 [==============================] - 1s 427ms/step - loss: 0.9350 - val_loss: 1.2289\n",
      "Epoch 11/100\n",
      "2/2 [==============================] - 1s 438ms/step - loss: 0.9462 - val_loss: 1.2324\n",
      "Epoch 12/100\n",
      "2/2 [==============================] - 0s 399ms/step - loss: 0.9213 - val_loss: 1.2351\n",
      "Epoch 13/100\n",
      "2/2 [==============================] - 0s 397ms/step - loss: 0.9378 - val_loss: 1.2373\n",
      "Epoch 14/100\n",
      "2/2 [==============================] - 1s 440ms/step - loss: 0.9594 - val_loss: 1.2393\n",
      "Epoch 15/100\n",
      "2/2 [==============================] - 1s 490ms/step - loss: 0.9232 - val_loss: 1.2418\n",
      "Epoch 16/100\n",
      "2/2 [==============================] - 1s 339ms/step - loss: 0.8930 - val_loss: 1.2439\n",
      "Epoch 17/100\n",
      "2/2 [==============================] - 0s 229ms/step - loss: 0.9367 - val_loss: 1.2466\n",
      "Epoch 18/100\n",
      "2/2 [==============================] - 0s 75ms/step - loss: 0.8946 - val_loss: 1.2493\n",
      "Epoch 19/100\n",
      "2/2 [==============================] - 0s 467ms/step - loss: 0.8788 - val_loss: 1.2517\n",
      "Epoch 20/100\n",
      "2/2 [==============================] - 1s 423ms/step - loss: 0.9105 - val_loss: 1.2536\n",
      "Epoch 21/100\n",
      "2/2 [==============================] - 1s 515ms/step - loss: 0.9341 - val_loss: 1.2562\n",
      "Epoch 22/100\n",
      "2/2 [==============================] - 0s 427ms/step - loss: 0.9398 - val_loss: 1.2589\n",
      "Epoch 23/100\n",
      "2/2 [==============================] - 1s 449ms/step - loss: 0.8886 - val_loss: 1.2623\n",
      "Epoch 24/100\n",
      "2/2 [==============================] - 1s 431ms/step - loss: 0.8900 - val_loss: 1.2652\n",
      "Epoch 25/100\n",
      "2/2 [==============================] - 1s 528ms/step - loss: 0.9003 - val_loss: 1.2678\n",
      "Epoch 26/100\n",
      "2/2 [==============================] - 1s 797ms/step - loss: 0.8954 - val_loss: 1.2714\n",
      "Epoch 27/100\n",
      "2/2 [==============================] - 1s 507ms/step - loss: 0.9448 - val_loss: 1.2748\n",
      "Epoch 28/100\n",
      "2/2 [==============================] - 0s 272ms/step - loss: 0.9135 - val_loss: 1.2792\n",
      "Epoch 29/100\n",
      "2/2 [==============================] - 0s 243ms/step - loss: 0.9234 - val_loss: 1.2832\n",
      "Epoch 30/100\n",
      "2/2 [==============================] - 1s 478ms/step - loss: 0.9154 - val_loss: 1.2879\n",
      "Epoch 31/100\n",
      "2/2 [==============================] - 1s 462ms/step - loss: 0.9209 - val_loss: 1.2925\n",
      "Epoch 32/100\n",
      "2/2 [==============================] - 1s 598ms/step - loss: 0.9269 - val_loss: 1.2974\n",
      "Epoch 33/100\n",
      "2/2 [==============================] - 1s 506ms/step - loss: 0.9135 - val_loss: 1.3034\n",
      "Epoch 34/100\n",
      "2/2 [==============================] - 2s 1s/step - loss: 0.9017 - val_loss: 1.3089\n",
      "Epoch 35/100\n",
      "2/2 [==============================] - 1s 707ms/step - loss: 0.9083 - val_loss: 1.3163\n",
      "Epoch 36/100\n",
      "2/2 [==============================] - 1s 707ms/step - loss: 0.8362 - val_loss: 1.3232\n",
      "Epoch 37/100\n",
      "2/2 [==============================] - 1s 606ms/step - loss: 0.9506 - val_loss: 1.3306\n",
      "Epoch 38/100\n",
      "2/2 [==============================] - 1s 657ms/step - loss: 0.8685 - val_loss: 1.3392\n",
      "Epoch 39/100\n",
      "2/2 [==============================] - 1s 559ms/step - loss: 0.8458 - val_loss: 1.3486\n",
      "Epoch 40/100\n",
      "2/2 [==============================] - 1s 663ms/step - loss: 0.8454 - val_loss: 1.3593\n",
      "Epoch 41/100\n",
      "2/2 [==============================] - 1s 919ms/step - loss: 0.9014 - val_loss: 1.3706\n",
      "Epoch 42/100\n",
      "2/2 [==============================] - 0s 432ms/step - loss: 0.8779 - val_loss: 1.3828\n",
      "Epoch 43/100\n",
      "2/2 [==============================] - 1s 536ms/step - loss: 0.9465 - val_loss: 1.3944\n",
      "Epoch 44/100\n",
      "2/2 [==============================] - 1s 522ms/step - loss: 0.8906 - val_loss: 1.4074\n",
      "Epoch 45/100\n",
      "2/2 [==============================] - 1s 462ms/step - loss: 0.8384 - val_loss: 1.4218\n",
      "Epoch 46/100\n",
      "2/2 [==============================] - 1s 802ms/step - loss: 0.8780 - val_loss: 1.4364\n",
      "Epoch 47/100\n",
      "2/2 [==============================] - 1s 1s/step - loss: 0.9234 - val_loss: 1.4505\n",
      "Epoch 48/100\n",
      "2/2 [==============================] - 1s 882ms/step - loss: 0.8805 - val_loss: 1.4661\n",
      "Epoch 49/100\n",
      "2/2 [==============================] - 1s 570ms/step - loss: 0.8936 - val_loss: 1.4823\n",
      "Epoch 50/100\n",
      "2/2 [==============================] - 1s 580ms/step - loss: 0.8639 - val_loss: 1.4981\n",
      "Epoch 51/100\n",
      "2/2 [==============================] - 1s 442ms/step - loss: 0.8202 - val_loss: 1.5122\n",
      "Epoch 52/100\n",
      "2/2 [==============================] - 0s 332ms/step - loss: 0.8561 - val_loss: 1.5263\n",
      "Epoch 53/100\n",
      "2/2 [==============================] - 1s 583ms/step - loss: 0.8603 - val_loss: 1.5418\n",
      "Epoch 54/100\n",
      "2/2 [==============================] - 0s 240ms/step - loss: 0.8338 - val_loss: 1.5572\n",
      "Epoch 55/100\n",
      "2/2 [==============================] - 1s 447ms/step - loss: 0.9082 - val_loss: 1.5709\n",
      "Epoch 56/100\n",
      "2/2 [==============================] - 1s 705ms/step - loss: 0.8312 - val_loss: 1.5820\n",
      "Epoch 57/100\n",
      "2/2 [==============================] - 1s 517ms/step - loss: 0.8372 - val_loss: 1.5945\n",
      "Epoch 58/100\n",
      "2/2 [==============================] - 1s 418ms/step - loss: 0.8728 - val_loss: 1.6072\n",
      "Epoch 59/100\n",
      "2/2 [==============================] - 1s 465ms/step - loss: 0.8611 - val_loss: 1.6177\n",
      "Epoch 60/100\n",
      "2/2 [==============================] - 1s 589ms/step - loss: 0.8413 - val_loss: 1.6268\n",
      "Epoch 61/100\n",
      "2/2 [==============================] - 1s 562ms/step - loss: 0.8767 - val_loss: 1.6337\n",
      "Epoch 62/100\n",
      "2/2 [==============================] - 0s 348ms/step - loss: 0.8289 - val_loss: 1.6411\n",
      "Epoch 63/100\n",
      "2/2 [==============================] - 1s 525ms/step - loss: 0.8474 - val_loss: 1.6488\n",
      "Epoch 64/100\n",
      "2/2 [==============================] - 1s 426ms/step - loss: 0.8854 - val_loss: 1.6555\n",
      "Epoch 65/100\n",
      "2/2 [==============================] - 1s 535ms/step - loss: 0.8605 - val_loss: 1.6594\n",
      "Epoch 66/100\n",
      "2/2 [==============================] - 1s 477ms/step - loss: 0.8099 - val_loss: 1.6627\n",
      "Epoch 67/100\n",
      "2/2 [==============================] - 1s 564ms/step - loss: 0.8308 - val_loss: 1.6640\n",
      "Epoch 68/100\n",
      "2/2 [==============================] - 1s 600ms/step - loss: 0.7987 - val_loss: 1.6657\n",
      "Epoch 69/100\n",
      "2/2 [==============================] - 1s 601ms/step - loss: 0.8752 - val_loss: 1.6652\n",
      "Epoch 70/100\n",
      "2/2 [==============================] - 1s 459ms/step - loss: 0.8340 - val_loss: 1.6653\n",
      "Epoch 71/100\n",
      "2/2 [==============================] - 1s 745ms/step - loss: 0.8373 - val_loss: 1.6665\n",
      "Epoch 72/100\n",
      "2/2 [==============================] - 1s 539ms/step - loss: 0.8051 - val_loss: 1.6656\n",
      "Epoch 73/100\n",
      "2/2 [==============================] - 1s 432ms/step - loss: 0.8246 - val_loss: 1.6649\n",
      "Epoch 74/100\n",
      "2/2 [==============================] - 0s 294ms/step - loss: 0.7839 - val_loss: 1.6651\n",
      "Epoch 75/100\n",
      "2/2 [==============================] - 0s 405ms/step - loss: 0.7843 - val_loss: 1.6650\n",
      "Epoch 76/100\n",
      "2/2 [==============================] - 0s 238ms/step - loss: 0.7740 - val_loss: 1.6672\n",
      "Epoch 77/100\n",
      "2/2 [==============================] - 0s 194ms/step - loss: 0.8192 - val_loss: 1.6666\n",
      "Epoch 78/100\n",
      "2/2 [==============================] - 0s 307ms/step - loss: 0.8575 - val_loss: 1.6670\n",
      "Epoch 79/100\n",
      "2/2 [==============================] - 1s 553ms/step - loss: 0.8018 - val_loss: 1.6680\n",
      "Epoch 80/100\n",
      "2/2 [==============================] - 0s 353ms/step - loss: 0.8424 - val_loss: 1.6666\n",
      "Epoch 81/100\n",
      "2/2 [==============================] - 1s 417ms/step - loss: 0.8133 - val_loss: 1.6664\n",
      "Epoch 82/100\n",
      "2/2 [==============================] - 0s 337ms/step - loss: 0.8475 - val_loss: 1.6667\n",
      "Epoch 83/100\n",
      "2/2 [==============================] - 1s 617ms/step - loss: 0.8360 - val_loss: 1.6666\n",
      "Epoch 84/100\n",
      "2/2 [==============================] - 1s 629ms/step - loss: 0.8041 - val_loss: 1.6648\n",
      "Epoch 85/100\n",
      "2/2 [==============================] - 0s 336ms/step - loss: 0.8502 - val_loss: 1.6628\n",
      "Epoch 86/100\n",
      "2/2 [==============================] - 0s 290ms/step - loss: 0.8132 - val_loss: 1.6615\n",
      "Epoch 87/100\n",
      "2/2 [==============================] - 1s 390ms/step - loss: 0.8741 - val_loss: 1.6600\n",
      "Epoch 88/100\n",
      "2/2 [==============================] - 0s 369ms/step - loss: 0.7819 - val_loss: 1.6588\n",
      "Epoch 89/100\n",
      "2/2 [==============================] - 1s 445ms/step - loss: 0.7513 - val_loss: 1.6583\n",
      "Epoch 90/100\n",
      "2/2 [==============================] - 0s 211ms/step - loss: 0.8059 - val_loss: 1.6571\n",
      "Epoch 91/100\n",
      "2/2 [==============================] - 0s 415ms/step - loss: 0.8527 - val_loss: 1.6552\n",
      "Epoch 92/100\n",
      "2/2 [==============================] - 0s 346ms/step - loss: 0.7772 - val_loss: 1.6528\n",
      "Epoch 93/100\n",
      "2/2 [==============================] - 1s 488ms/step - loss: 0.8015 - val_loss: 1.6515\n",
      "Epoch 94/100\n",
      "2/2 [==============================] - 0s 272ms/step - loss: 0.7910 - val_loss: 1.6495\n",
      "Epoch 95/100\n",
      "2/2 [==============================] - 0s 307ms/step - loss: 0.7759 - val_loss: 1.6496\n",
      "Epoch 96/100\n",
      "2/2 [==============================] - 1s 593ms/step - loss: 0.7886 - val_loss: 1.6487\n",
      "Epoch 97/100\n",
      "2/2 [==============================] - 1s 485ms/step - loss: 0.8016 - val_loss: 1.6487\n",
      "Epoch 98/100\n",
      "2/2 [==============================] - 1s 418ms/step - loss: 0.7615 - val_loss: 1.6484\n",
      "Epoch 99/100\n",
      "2/2 [==============================] - 1s 575ms/step - loss: 0.8379 - val_loss: 1.6487\n",
      "Epoch 100/100\n",
      "2/2 [==============================] - 1s 524ms/step - loss: 0.7691 - val_loss: 1.6487\n",
      "El modelo tardó 95.46 segundos en entrenar.\n"
     ]
    }
   ],
   "metadata": {}
  },
  {
   "cell_type": "code",
   "execution_count": 15,
   "source": [
    "model_d.summary()"
   ],
   "outputs": [
    {
     "output_type": "stream",
     "name": "stdout",
     "text": [
      "Model: \"sequential\"\n",
      "_________________________________________________________________\n",
      "Layer (type)                 Output Shape              Param #   \n",
      "=================================================================\n",
      "lstm (LSTM)                  (None, 12)                672       \n",
      "_________________________________________________________________\n",
      "repeat_vector (RepeatVector) (None, 2, 12)             0         \n",
      "_________________________________________________________________\n",
      "lstm_1 (LSTM)                (None, 2, 12)             1200      \n",
      "_________________________________________________________________\n",
      "time_distributed (TimeDistri (None, 2, 1)              13        \n",
      "=================================================================\n",
      "Total params: 1,885\n",
      "Trainable params: 1,885\n",
      "Non-trainable params: 0\n",
      "_________________________________________________________________\n"
     ]
    }
   ],
   "metadata": {}
  },
  {
   "cell_type": "code",
   "execution_count": 18,
   "source": [
    "def plot_learning_curves(loss, val_loss):\n",
    "    plt.plot(np.arange(len(loss)), loss, \"b.-\", label=\"Training loss\")\n",
    "    plt.plot(np.arange(len(val_loss)), val_loss, \"r.-\", label=\"Validation loss\")\n",
    "    plt.gca().xaxis.set_major_locator(mpl.ticker.MaxNLocator(integer=True))\n",
    "    # plt.axis([1, len(history.epoch), 0.1, 0.15])\n",
    "    # plt.axis([1, len(history.epoch), min(history.history[\"val_loss\"]), max(history.history[\"val_loss\"])])\n",
    "    plt.legend(fontsize=14)\n",
    "    plt.xlabel(\"Epochs\")\n",
    "    plt.ylabel(\"Loss\")\n",
    "    plt.grid(True)\n",
    "\n",
    "plot_learning_curves(history.history[\"loss\"], history.history[\"val_loss\"])\n",
    "plt.show()"
   ],
   "outputs": [
    {
     "output_type": "display_data",
     "data": {
      "text/plain": [
       "<Figure size 432x288 with 1 Axes>"
      ],
      "image/png": "[encoded data removed]"
     },
     "metadata": {
      "needs_background": "light"
     }
    }
   ],
   "metadata": {}
  },
  {
   "cell_type": "code",
   "execution_count": 20,
   "source": [
    "# Forecasting en conjunto de prueba\n",
    "X_test_, y_test_ = split_sequence(X_test, n_steps_in_d, n_steps_out_d)\n",
    "y_test = scaler.inverse_transform(y_test_)\n",
    "\n",
    "print(X_test_.shape)\n",
    "print(y_test.shape)"
   ],
   "outputs": [
    {
     "output_type": "stream",
     "name": "stdout",
     "text": [
      "(5, 6)\n",
      "(5, 2)\n"
     ]
    }
   ],
   "metadata": {}
  },
  {
   "cell_type": "code",
   "execution_count": 24,
   "source": [
    "predict = 4\n",
    "x_input = X_test_[predict].reshape((1, n_steps_in_d, n_features))\n",
    "yhat_norm_d = model_d.predict(x_input, verbose=0)\n",
    "yhat_d = scaler.inverse_transform(yhat_norm_d)\n",
    "yhat_d = yhat_d[0]\n",
    "\n",
    "var = scaler.inverse_transform(X_test)\n",
    "actual = y_test[predict]\n",
    "prev = var[predict-6:predict]\n",
    "prev = np.hstack((prev,actual))\n",
    "\n",
    "time = np.arange(24*7)\n",
    "plt.rcParams['figure.figsize'] = (9, 7)\n",
    "plt.plot(prev,'r',  label='Actual', linewidth=2)\n",
    "plt.plot( yhat_d.ravel(),'b--',  label='Predict', linewidth=2)\n",
    "plt.legend(loc='upper left', fontsize=20)\n",
    "plt.xlabel(\"Months\", fontsize=20)\n",
    "plt.ylabel(\"GHI $[kWh/m^2]$\", fontsize=20)\n",
    "plt.yticks(size=15)\n",
    "plt.xticks(size=15)\n",
    "# plt.savefig('Figuras_Informe/predic_1_day_01012012.png', format='png', dpi=300)\n",
    "plt.show() \n",
    "\n",
    "rmse = np.sqrt(mean_squared_error(actual, yhat_d))\n",
    "mae = mean_absolute_error(actual, yhat_d)\n",
    "r2 = r2_score(actual, yhat_d)\n",
    "\n",
    "print('Root mean square error: ', rmse)\n",
    "print('Mean absolute error: ', mae)\n",
    "print('R-Squared: ', r2)"
   ],
   "outputs": [
    {
     "output_type": "display_data",
     "data": {
      "text/plain": [
       "<Figure size 648x504 with 1 Axes>"
      ],
      "image/png": "[encoded data removed]"
     },
     "metadata": {
      "needs_background": "light"
     }
    },
    {
     "output_type": "stream",
     "name": "stdout",
     "text": [
      "Root mean square error:  23.565299373109394\n",
      "Mean absolute error:  16.69658923952383\n",
      "R-Squared:  -1.0821034459227246\n"
     ]
    }
   ],
   "metadata": {}
  }
 ],
 "metadata": {
  "orig_nbformat": 4,
  "language_info": {
   "name": "python",
   "version": "3.6.9",
   "mimetype": "text/x-python",
   "codemirror_mode": {
    "name": "ipython",
    "version": 3
   },
   "pygments_lexer": "ipython3",
   "nbconvert_exporter": "python",
   "file_extension": ".py"
  },
  "kernelspec": {
   "name": "python3",
   "display_name": "Python 3.6.9 64-bit"
  },
  "interpreter": {
   "hash": "31f2aee4e71d21fbe5cf8b01ff0e069b9275f58929596ceb00d14d90e3e16cd6"
  }
 },
 "nbformat": 4,
 "nbformat_minor": 2
}