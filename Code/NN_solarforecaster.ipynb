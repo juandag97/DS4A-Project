{
 "cells": [
  {
   "cell_type": "markdown",
   "source": [
    "**Neural network**\n",
    "Based on Solar_Forecasting.ipynb by\n",
    "From GHI series (or other variable) makes prediction of next steps based on a rolling function called split_sequence that takes subseries of length N to predict the following M steps. Using a ANN aproach with 100 epochs.\n",
    "\n",
    "We will use this implementation to forecast the following 24 months (from january 2021 to december 2022). The testing sample will be 2020 (for which the training data will be up to 2019).\n"
   ],
   "metadata": {}
  },
  {
   "cell_type": "code",
   "execution_count": 1,
   "source": [
    "import pandas as pd\n",
    "import numpy as np\n",
    "import matplotlib.pyplot as plt\n",
    "np.random.seed(42)\n",
    "from keras.layers import LSTM, Dense\n",
    "from keras.models import Sequential\n",
    "from keras.layers import RepeatVector\n",
    "from keras.layers import TimeDistributed\n",
    "from keras.callbacks import EarlyStopping\n",
    "from sklearn.metrics import mean_squared_error, mean_absolute_error, r2_score\n",
    "from sklearn.preprocessing import StandardScaler\n",
    "from time import time\n",
    "\n",
    "import matplotlib as mpl\n",
    "import matplotlib.pyplot as plt\n",
    "mpl.rc('axes', labelsize=14)\n",
    "mpl.rc('xtick', labelsize=12)\n",
    "mpl.rc('ytick', labelsize=12)\n",
    "print(\"Imports done\")"
   ],
   "outputs": [
    {
     "output_type": "error",
     "ename": "ImportError",
     "evalue": "Keras requires TensorFlow 2.2 or higher. Install TensorFlow via `pip install tensorflow`",
     "traceback": [
      "\u001b[0;31m---------------------------------------------------------------------------\u001b[0m",
      "\u001b[0;31mModuleNotFoundError\u001b[0m                       Traceback (most recent call last)",
      "\u001b[0;32m~/.local/lib/python3.6/site-packages/keras/__init__.py\u001b[0m in \u001b[0;36m<module>\u001b[0;34m\u001b[0m\n\u001b[1;32m      2\u001b[0m \u001b[0;32mtry\u001b[0m\u001b[0;34m:\u001b[0m\u001b[0;34m\u001b[0m\u001b[0;34m\u001b[0m\u001b[0m\n\u001b[0;32m----> 3\u001b[0;31m     \u001b[0;32mfrom\u001b[0m \u001b[0mtensorflow\u001b[0m\u001b[0;34m.\u001b[0m\u001b[0mkeras\u001b[0m\u001b[0;34m.\u001b[0m\u001b[0mlayers\u001b[0m\u001b[0;34m.\u001b[0m\u001b[0mexperimental\u001b[0m\u001b[0;34m.\u001b[0m\u001b[0mpreprocessing\u001b[0m \u001b[0;32mimport\u001b[0m \u001b[0mRandomRotation\u001b[0m\u001b[0;34m\u001b[0m\u001b[0;34m\u001b[0m\u001b[0m\n\u001b[0m\u001b[1;32m      4\u001b[0m \u001b[0;32mexcept\u001b[0m \u001b[0mImportError\u001b[0m\u001b[0;34m:\u001b[0m\u001b[0;34m\u001b[0m\u001b[0;34m\u001b[0m\u001b[0m\n",
      "\u001b[0;31mModuleNotFoundError\u001b[0m: No module named 'tensorflow'",
      "\nDuring handling of the above exception, another exception occurred:\n",
      "\u001b[0;31mImportError\u001b[0m                               Traceback (most recent call last)",
      "\u001b[0;32m<ipython-input-1-01ddbde1bdf3>\u001b[0m in \u001b[0;36m<module>\u001b[0;34m\u001b[0m\n\u001b[1;32m      3\u001b[0m \u001b[0;32mimport\u001b[0m \u001b[0mmatplotlib\u001b[0m\u001b[0;34m.\u001b[0m\u001b[0mpyplot\u001b[0m \u001b[0;32mas\u001b[0m \u001b[0mplt\u001b[0m\u001b[0;34m\u001b[0m\u001b[0;34m\u001b[0m\u001b[0m\n\u001b[1;32m      4\u001b[0m \u001b[0mnp\u001b[0m\u001b[0;34m.\u001b[0m\u001b[0mrandom\u001b[0m\u001b[0;34m.\u001b[0m\u001b[0mseed\u001b[0m\u001b[0;34m(\u001b[0m\u001b[0;36m42\u001b[0m\u001b[0;34m)\u001b[0m\u001b[0;34m\u001b[0m\u001b[0;34m\u001b[0m\u001b[0m\n\u001b[0;32m----> 5\u001b[0;31m \u001b[0;32mfrom\u001b[0m \u001b[0mkeras\u001b[0m\u001b[0;34m.\u001b[0m\u001b[0mlayers\u001b[0m \u001b[0;32mimport\u001b[0m \u001b[0mLSTM\u001b[0m\u001b[0;34m,\u001b[0m \u001b[0mDense\u001b[0m\u001b[0;34m\u001b[0m\u001b[0;34m\u001b[0m\u001b[0m\n\u001b[0m\u001b[1;32m      6\u001b[0m \u001b[0;32mfrom\u001b[0m \u001b[0mkeras\u001b[0m\u001b[0;34m.\u001b[0m\u001b[0mmodels\u001b[0m \u001b[0;32mimport\u001b[0m \u001b[0mSequential\u001b[0m\u001b[0;34m\u001b[0m\u001b[0;34m\u001b[0m\u001b[0m\n\u001b[1;32m      7\u001b[0m \u001b[0;32mfrom\u001b[0m \u001b[0mkeras\u001b[0m\u001b[0;34m.\u001b[0m\u001b[0mlayers\u001b[0m \u001b[0;32mimport\u001b[0m \u001b[0mRepeatVector\u001b[0m\u001b[0;34m\u001b[0m\u001b[0;34m\u001b[0m\u001b[0m\n",
      "\u001b[0;32m~/.local/lib/python3.6/site-packages/keras/__init__.py\u001b[0m in \u001b[0;36m<module>\u001b[0;34m\u001b[0m\n\u001b[1;32m      4\u001b[0m \u001b[0;32mexcept\u001b[0m \u001b[0mImportError\u001b[0m\u001b[0;34m:\u001b[0m\u001b[0;34m\u001b[0m\u001b[0;34m\u001b[0m\u001b[0m\n\u001b[1;32m      5\u001b[0m     raise ImportError(\n\u001b[0;32m----> 6\u001b[0;31m         \u001b[0;34m'Keras requires TensorFlow 2.2 or higher. '\u001b[0m\u001b[0;34m\u001b[0m\u001b[0;34m\u001b[0m\u001b[0m\n\u001b[0m\u001b[1;32m      7\u001b[0m         'Install TensorFlow via `pip install tensorflow`')\n\u001b[1;32m      8\u001b[0m \u001b[0;34m\u001b[0m\u001b[0m\n",
      "\u001b[0;31mImportError\u001b[0m: Keras requires TensorFlow 2.2 or higher. Install TensorFlow via `pip install tensorflow`"
     ]
    }
   ],
   "metadata": {}
  },
  {
   "cell_type": "code",
   "execution_count": null,
   "source": [
    "#Data\n",
    "VarNo=0\n",
    "CoordNo=0\n",
    "data_path=\"/home/bleon/Documents/DS4A/DS4A_Project/Processed_Data/\"\n",
    "Data=pd.read_csv(data_path+\"MeteorCOLUnited.csv\",usecols=[\"Year\",\"Month\",\"Day\",\"Wind Speed\",\"GHI\",\"Temperature\",\"Latitude\",\"Longitude\"])\n",
    "MonthData=Data.groupby([\"Year\",\"Month\",\"Latitude,Longitude\"]).mean()[Data[\"Year\"]<=2020]\n",
    "MonthData[\"LatLon\"]=list(zip(MonthData[\"Latitude\"],MonthData[\"Longitude\"]))\n",
    "\n",
    "AllCoords=MonthData[\"LatLon\"].unique().tolist()\n",
    "Location=AllCoords[CoordNo]\n",
    "Variables_to_plot=[\"Temperature\",\"Wind Speed\",\"GHI\"]\n",
    "Variable=Variables_to_plot[VarNo]\n",
    "\n",
    "print(\"Data done\")"
   ],
   "outputs": [],
   "metadata": {}
  },
  {
   "cell_type": "code",
   "execution_count": null,
   "source": [
    "ForecastDF=MonthData[MonthData[\"LatLon\"]==Location][[\"Year\",\"Month\",Variable]]\n",
    "ForecastDF[\"datetime\"]=pd.to_datetime(ForecastDF[\"Year\"].astype(\"str\")+\"-\"+ForecastDF[\"Month\"].astype(\"str\")+\"-01\")"
   ],
   "outputs": [],
   "metadata": {}
  },
  {
   "cell_type": "code",
   "execution_count": null,
   "source": [
    "X = np.array(ForecastDF[Variable].tolist())\n",
    "scaler = StandardScaler().fit(X.reshape(-1, 1))\n",
    "X = scaler.transform(X.reshape(-1, 1))\n",
    "X = X.ravel()\n",
    "#\n",
    "# X_test last year\n",
    "# X_val Second to last year\n",
    "# X_train all remaining year\n",
    "n = len(X)\n",
    "m=n-12\n",
    "X_train = X[:m-24]\n",
    "X_val = X[m-12:m]\n",
    "X_test = X[m:]\n",
    "\n",
    "print(X.shape)\n",
    "print(X_train.shape)\n",
    "print(X_val.shape)\n",
    "print(X_test.shape)"
   ],
   "outputs": [],
   "metadata": {}
  },
  {
   "cell_type": "code",
   "execution_count": null,
   "source": [
    "def split_sequence(sequence, n_steps_in, n_steps_out):\n",
    "    X, y = list(), list()\n",
    "    for i in range(len(sequence)):\n",
    "        end_ix = i + n_steps_in\n",
    "        out_end_ix = end_ix + n_steps_out\n",
    "        if out_end_ix > len(sequence):\n",
    "            break\n",
    "        seq_x, seq_y = sequence[i:end_ix], sequence[end_ix:out_end_ix]\n",
    "        X.append(seq_x)\n",
    "        y.append(seq_y)\n",
    "    return np.array(X), np.array(y)\n",
    "# seq=[1,2,3,4,5,6,7,8,9,10,11,12,13,14,15,16,17,18,19,20]\n",
    "# print(split_sequence(seq,3,3))"
   ],
   "outputs": [],
   "metadata": {}
  },
  {
   "cell_type": "code",
   "execution_count": null,
   "source": [
    "# Choose number of input and output steps\n",
    "# Elegir número de pasos de entrada y salida\n",
    "n_steps_in_d = 6     # 7 días previos\n",
    "n_steps_out_d = 2      # predecir siguiente día\n",
    "\n",
    "# Dividir en muestras\n",
    "X_t, y_t = split_sequence(X_train, n_steps_in_d, n_steps_out_d)\n",
    "X_v, y_v = split_sequence(X_val, n_steps_in_d, n_steps_out_d)\n",
    "\n",
    "print(X_t.shape)\n",
    "print(y_t.shape)\n",
    "print(X_v.shape)\n",
    "print(y_v.shape)"
   ],
   "outputs": [],
   "metadata": {}
  },
  {
   "cell_type": "code",
   "execution_count": null,
   "source": [
    "n_features = 1\n",
    "X_t = X_t.reshape((X_t.shape[0], X_t.shape[1], n_features))\n",
    "y_t = y_t.reshape((y_t.shape[0], y_t.shape[1], n_features))\n",
    "X_v = X_v.reshape((X_v.shape[0], X_v.shape[1], n_features))\n",
    "y_v = y_v.reshape((y_v.shape[0], y_v.shape[1], n_features))\n",
    "\n",
    "print(X_t.shape)\n",
    "print(y_t.shape)\n",
    "print(X_v.shape)\n",
    "print(y_v.shape)"
   ],
   "outputs": [],
   "metadata": {}
  },
  {
   "cell_type": "code",
   "execution_count": null,
   "source": [
    "# definir el modelo\n",
    "\n",
    "# encoder\n",
    "model_d = Sequential()\n",
    "model_d.add(LSTM(12, input_shape=(n_steps_in_d, n_features)))\n",
    "model_d.add(RepeatVector(n_steps_out_d))\n",
    "\n",
    "# decoder\n",
    "model_d.add(LSTM(12, return_sequences=True))\n",
    "model_d.add(TimeDistributed(Dense(1)))\n",
    "model_d.compile(optimizer='adam', loss='mse')\n",
    "\n",
    "# entrenar the model\n",
    "start = time()\n",
    "early_stopping = EarlyStopping(patience=10, restore_best_weights=True)\n",
    "history = model_d.fit(X_t, y_t, epochs=100, batch_size=128, verbose=1,\n",
    "           validation_data=(X_v, y_v), callbacks=[early_stopping])\n",
    "print(\"El modelo tardó %.2f segundos en entrenar.\"% (time() - start)) "
   ],
   "outputs": [],
   "metadata": {}
  },
  {
   "cell_type": "code",
   "execution_count": null,
   "source": [
    "model_d.summary()"
   ],
   "outputs": [],
   "metadata": {}
  }
 ],
 "metadata": {
  "orig_nbformat": 4,
  "language_info": {
   "name": "python",
   "version": "3.6.9",
   "mimetype": "text/x-python",
   "codemirror_mode": {
    "name": "ipython",
    "version": 3
   },
   "pygments_lexer": "ipython3",
   "nbconvert_exporter": "python",
   "file_extension": ".py"
  },
  "kernelspec": {
   "name": "python3",
   "display_name": "Python 3.6.9 64-bit"
  },
  "interpreter": {
   "hash": "31f2aee4e71d21fbe5cf8b01ff0e069b9275f58929596ceb00d14d90e3e16cd6"
  }
 },
 "nbformat": 4,
 "nbformat_minor": 2
}